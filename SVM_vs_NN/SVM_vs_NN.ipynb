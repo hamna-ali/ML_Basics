{
  "nbformat": 4,
  "nbformat_minor": 0,
  "metadata": {
    "colab": {
      "provenance": []
    },
    "kernelspec": {
      "name": "python3",
      "display_name": "Python 3"
    },
    "language_info": {
      "name": "python"
    }
  },
  "cells": [
    {
      "cell_type": "code",
      "execution_count": 1,
      "metadata": {
        "id": "Fe1I5F_dVhqH"
      },
      "outputs": [],
      "source": [
        "import numpy as np\n",
        "from sklearn.svm import SVC\n",
        "from sklearn.metrics import f1_score, accuracy_score, confusion_matrix\n",
        "import torch\n",
        "import torch.nn as nn\n",
        "from scipy.stats import skew, kurtosis\n",
        "import torch.nn.functional as F\n",
        "from torch.utils.data import TensorDataset, DataLoader\n",
        "import torch.optim as optim\n",
        "import matplotlib.pyplot as plt\n",
        "import seaborn as sns\n",
        "from sklearn.metrics import confusion_matrix, f1_score, accuracy_score\n"
      ]
    },
    {
      "cell_type": "markdown",
      "source": [
        "Loading NumPy Files"
      ],
      "metadata": {
        "id": "UTSWTpHIquI1"
      }
    },
    {
      "cell_type": "code",
      "source": [
        "train_msAcc = np.load(\"train_MSAccelerometer_OpenDoor_RubHands.npy\")\n",
        "train_msGyro = np.load(\"train_MSGyroscope_OpenDoor_RubHands.npy\")\n",
        "train_labels = np.load(\"train_labels_OpenDoor_RubHands.npy\")\n",
        "\n",
        "test_msAcc = np.load(\"test_MSAccelerometer_OpenDoor_RubHands.npy\")\n",
        "test_msGyro = np.load(\"test_MSGyroscope_OpenDoor_RubHands.npy\")\n",
        "test_labels = np.load(\"test_labels_OpenDoor_RubHands.npy\")\n"
      ],
      "metadata": {
        "id": "36IIj5pRXGpz"
      },
      "execution_count": 2,
      "outputs": []
    },
    {
      "cell_type": "markdown",
      "source": [
        "Printing Shapes and Setting Parameters"
      ],
      "metadata": {
        "id": "NNeE_mEJqw35"
      }
    },
    {
      "cell_type": "code",
      "source": [
        "print(train_msAcc.shape)\n",
        "print(train_msGyro.shape)\n",
        "print(train_labels.shape)\n",
        "\n",
        "print(test_msAcc.shape)\n",
        "print(test_msGyro.shape)\n",
        "print(test_labels.shape)\n"
      ],
      "metadata": {
        "colab": {
          "base_uri": "https://localhost:8080/"
        },
        "id": "9IVjsO33YzIk",
        "outputId": "45caceae-7a24-47d4-e137-a90db5a948f1"
      },
      "execution_count": 3,
      "outputs": [
        {
          "output_type": "stream",
          "name": "stdout",
          "text": [
            "(87, 268, 3)\n",
            "(87, 268, 3)\n",
            "(87,)\n",
            "(90, 268, 3)\n",
            "(90, 268, 3)\n",
            "(90,)\n"
          ]
        }
      ]
    },
    {
      "cell_type": "markdown",
      "source": [
        "Step: Set number of train/test examples and features\n",
        "We’ll use 8 features per sensor 8   (mean, max, min, std, median, range, skewness, kurtosis) and we have 2 sensors (Accelerometer + Gyroscope), each with 3 axes."
      ],
      "metadata": {
        "id": "1SYrwkN6vwHd"
      }
    },
    {
      "cell_type": "code",
      "source": [
        "\n",
        "train_num_examples = train_msAcc.shape[0]  # 87\n",
        "test_num_examples = test_msAcc.shape[0]    # 90\n",
        "\n",
        "num_features = 8  # mean, max, min, std, median, range, skewness, kurtosis\n",
        "num_sensors = 2   # Accelerometer + Gyroscope\n",
        "\n",
        "# Initialize feature arrays: shape (samples, features, axes)\n",
        "train_features = np.zeros((train_num_examples, num_features * num_sensors, 3))\n",
        "test_features = np.zeros((test_num_examples, num_features * num_sensors, 3))\n",
        "\n"
      ],
      "metadata": {
        "id": "UAOBDPaDvz0d"
      },
      "execution_count": 4,
      "outputs": []
    },
    {
      "cell_type": "markdown",
      "source": [
        "Extract Features"
      ],
      "metadata": {
        "id": "PP83SgjXyJxn"
      }
    },
    {
      "cell_type": "code",
      "source": [
        "def extract_8_features(sensor_data):\n",
        "    mean_ = np.mean(sensor_data, axis=1)\n",
        "    max_ = np.max(sensor_data, axis=1)\n",
        "    min_ = np.min(sensor_data, axis=1)\n",
        "    std_ = np.std(sensor_data, axis=1)\n",
        "    median_ = np.median(sensor_data, axis=1)\n",
        "    range_ = max_ - min_\n",
        "    skewness_ = skew(sensor_data, axis=1)\n",
        "    kurtosis_ = kurtosis(sensor_data, axis=1)\n",
        "\n",
        "    # Stack all features: shape -> (samples, 8 features, 3 axes)\n",
        "    features = np.stack([mean_, max_, min_, std_, median_, range_, skewness_, kurtosis_], axis=1)\n",
        "    return features\n"
      ],
      "metadata": {
        "id": "OBcr2nl1xmtM"
      },
      "execution_count": 5,
      "outputs": []
    },
    {
      "cell_type": "markdown",
      "source": [
        "Train and test feature extraction"
      ],
      "metadata": {
        "id": "2mt9jpHJ2zXA"
      }
    },
    {
      "cell_type": "code",
      "source": [
        "train_acc_features = extract_8_features(train_msAcc)\n",
        "train_gyro_features = extract_8_features(train_msGyro)\n",
        "\n",
        "# Assign to the big feature array\n",
        "train_features[:, 0:8, :] = train_acc_features\n",
        "train_features[:, 8:16, :] = train_gyro_features\n",
        "\n",
        "test_acc_features = extract_8_features(test_msAcc)\n",
        "test_gyro_features = extract_8_features(test_msGyro)\n",
        "\n",
        "# Assign to the big feature array\n",
        "test_features[:, 0:8, :] = test_acc_features\n",
        "test_features[:, 8:16, :] = test_gyro_features\n"
      ],
      "metadata": {
        "id": "xdk3el1Q20os"
      },
      "execution_count": 6,
      "outputs": []
    },
    {
      "cell_type": "markdown",
      "source": [
        "Reshaping Feature arrays"
      ],
      "metadata": {
        "id": "8fLvGWjgyOKm"
      }
    },
    {
      "cell_type": "code",
      "source": [
        "train_features_reshaped = train_features.reshape(train_num_examples, -1)\n",
        "test_features_reshaped = test_features.reshape(test_num_examples, -1)\n",
        "\n",
        "print(\"Shape of train features:\", train_features_reshaped.shape)  # (samples, 48)\n",
        "print(\"Shape of test features:\", test_features_reshaped.shape)    # (samples, 48)"
      ],
      "metadata": {
        "colab": {
          "base_uri": "https://localhost:8080/"
        },
        "id": "H3neEITnyX2x",
        "outputId": "d78ecbea-40f8-4700-9f29-2353968f6c3c"
      },
      "execution_count": 7,
      "outputs": [
        {
          "output_type": "stream",
          "name": "stdout",
          "text": [
            "Shape of train features: (87, 48)\n",
            "Shape of test features: (90, 48)\n"
          ]
        }
      ]
    },
    {
      "cell_type": "markdown",
      "source": [
        "Training SVM"
      ],
      "metadata": {
        "id": "HaUeLMyo3qeI"
      }
    },
    {
      "cell_type": "code",
      "source": [
        "# Initialize SVM classifier with linear kernel\n",
        "classifier = SVC(C=1.0, kernel='linear', random_state=42)\n",
        "\n",
        "# Train the classifier\n",
        "classifier.fit(train_features_reshaped, train_labels)\n",
        "\n",
        "# Predict on the test set\n",
        "estimatedLabels = classifier.predict(test_features_reshaped)\n",
        "\n",
        "# Evaluation metrics\n",
        "accuracy = accuracy_score(test_labels, estimatedLabels)\n",
        "weightedF1 = f1_score(test_labels, estimatedLabels, average='weighted')\n",
        "averageF1 = f1_score(test_labels, estimatedLabels, average='macro')\n",
        "allF1Scores = f1_score(test_labels, estimatedLabels, average=None)\n",
        "conf_matrix = confusion_matrix(test_labels, estimatedLabels)\n",
        "\n",
        "# Print results\n",
        "print('   C = 1.0 ')\n",
        "print('   Average F1-score = %.4f' % averageF1)\n",
        "print('   Test accuracy = %.2f %%' % (accuracy * 100))\n",
        "print('   Weighted F1-score = %.4f' % weightedF1)\n",
        "print('   All F1-scores:')\n",
        "print(allF1Scores)\n",
        "print('   Confusion Matrix:')\n",
        "print(conf_matrix)\n",
        "print('-------------------------------------------------------')\n",
        "\n",
        "# Plot confusion matrix with class labels\n",
        "labels = ['True Neg', 'False Pos', 'False Neg', 'True Pos']\n",
        "plt.figure(figsize=(6, 5))\n",
        "ax = sns.heatmap(conf_matrix, annot=True, fmt='d', cmap='Blues', cbar=False,\n",
        "                 xticklabels=[\"Pred: 0\", \"Pred: 1\"],\n",
        "                 yticklabels=[\"Actual: 0\", \"Actual: 1\"])\n",
        "\n",
        "# Label the 4 quadrants\n",
        "for i in range(2):\n",
        "    for j in range(2):\n",
        "        label_text = labels[i * 2 + j]\n",
        "        ax.text(j + 0.5, i + 0.5, f\"\\n{label_text}\", color='black',\n",
        "                ha='center', va='center', fontsize=10, fontweight='bold')\n",
        "\n",
        "plt.title(' Confusion Matrix with Class Labels')\n",
        "plt.xlabel('Predicted Label')\n",
        "plt.ylabel('True Label')\n",
        "plt.tight_layout()\n",
        "plt.show()\n",
        "\n"
      ],
      "metadata": {
        "colab": {
          "base_uri": "https://localhost:8080/",
          "height": 681
        },
        "id": "4IhtFLCSy3VB",
        "outputId": "87dc68c2-5479-4399-954f-d9689be004df"
      },
      "execution_count": 9,
      "outputs": [
        {
          "output_type": "stream",
          "name": "stdout",
          "text": [
            "   C = 1.0 \n",
            "   Average F1-score = 0.9444\n",
            "   Test accuracy = 94.44 %\n",
            "   Weighted F1-score = 0.9445\n",
            "   All F1-scores:\n",
            "[0.94623656 0.94252874]\n",
            "   Confusion Matrix:\n",
            "[[44  4]\n",
            " [ 1 41]]\n",
            "-------------------------------------------------------\n"
          ]
        },
        {
          "output_type": "display_data",
          "data": {
            "text/plain": [
              "<Figure size 600x500 with 1 Axes>"
            ],
            "image/png": "[encoded data removed]"
          },
          "metadata": {}
        }
      ]
    },
    {
      "cell_type": "markdown",
      "source": [
        "Convert your numpy arrays to PyTorch tensors"
      ],
      "metadata": {
        "id": "T6APMrUQ5HjG"
      }
    },
    {
      "cell_type": "code",
      "source": [
        "trainingLabels = torch.from_numpy(train_labels).long()\n",
        "testingLabels = torch.from_numpy(test_labels).long()\n",
        "trainingLabels[trainingLabels != 0] = 1\n",
        "testingLabels[testingLabels != 0] = 1\n",
        "\n",
        "trainingMSAcc = torch.from_numpy(train_msAcc).float()\n",
        "trainingMSGyro = torch.from_numpy(train_msGyro).float()\n",
        "trainingLabels = torch.from_numpy(train_labels).long()  # use long for classification labels\n",
        "\n",
        "testingMSAcc = torch.from_numpy(test_msAcc).float()\n",
        "testingMSGyro = torch.from_numpy(test_msGyro).float()\n",
        "testingLabels = torch.from_numpy(test_labels).long()\n",
        "print(train_msAcc.shape)  # should print (num_samples, time_steps, axes)\n",
        "\n"
      ],
      "metadata": {
        "id": "JgLPp6aK5LDb",
        "colab": {
          "base_uri": "https://localhost:8080/"
        },
        "outputId": "6a43d333-99cb-4bdb-9494-1cbc387f67d3"
      },
      "execution_count": 11,
      "outputs": [
        {
          "output_type": "stream",
          "name": "stdout",
          "text": [
            "(87, 268, 3)\n"
          ]
        }
      ]
    },
    {
      "cell_type": "markdown",
      "source": [
        "Define a simple CNN model class\n",
        "We’ll use 1D convolutions since the sensor data is time-series style. For simplicity, concatenate accelerometer and gyroscope along the channel dimension."
      ],
      "metadata": {
        "id": "gchMuPpt5YN6"
      }
    },
    {
      "cell_type": "code",
      "source": [
        "class SimpleCNN(nn.Module):\n",
        "    def __init__(self):\n",
        "        super(SimpleCNN, self).__init__()\n",
        "        self.conv1 = nn.Conv1d(in_channels=6, out_channels=16, kernel_size=5)\n",
        "        self.pool1 = nn.MaxPool1d(kernel_size=2)\n",
        "\n",
        "        self.conv2 = nn.Conv1d(16, 32, kernel_size=5)\n",
        "        self.pool2 = nn.MaxPool1d(kernel_size=2)\n",
        "\n",
        "        self.conv3 = nn.Conv1d(32, 64, kernel_size=5)\n",
        "        self.pool3 = nn.MaxPool1d(kernel_size=2)\n",
        "\n",
        "        dummy_seq_len = 268  # fixed sequence length based on your data\n",
        "        dummy_input = torch.zeros(1, 6, dummy_seq_len)\n",
        "\n",
        "        # forward pass of dummy input to calculate flatten size\n",
        "        x = self.pool1(F.relu(self.conv1(dummy_input)))\n",
        "        x = self.pool2(F.relu(self.conv2(x)))\n",
        "        x = self.pool3(F.relu(self.conv3(x)))\n",
        "\n",
        "        flatten_size = x.numel()  # total features after flattening\n",
        "\n",
        "        self.fc1 = nn.Linear(flatten_size, 100)\n",
        "        self.fc2 = nn.Linear(100, 2)\n",
        "\n",
        "    def forward(self, x):\n",
        "        x = self.pool1(F.relu(self.conv1(x)))\n",
        "        x = self.pool2(F.relu(self.conv2(x)))\n",
        "        x = self.pool3(F.relu(self.conv3(x)))\n",
        "\n",
        "        x = x.view(x.size(0), -1)\n",
        "        x = F.relu(self.fc1(x))\n",
        "        x = self.fc2(x)\n",
        "        return x\n"
      ],
      "metadata": {
        "id": "DC-eUkaa5cm8"
      },
      "execution_count": 12,
      "outputs": []
    },
    {
      "cell_type": "markdown",
      "source": [
        "Prepare your dataset loader with batching"
      ],
      "metadata": {
        "id": "GQtEedUN5pW0"
      }
    },
    {
      "cell_type": "code",
      "source": [
        "# Shape: (samples, time_steps, channels) → concatenate\n",
        "train_data_np = np.concatenate([train_msAcc, train_msGyro], axis=2)\n",
        "test_data_np = np.concatenate([test_msAcc, test_msGyro], axis=2)\n",
        "\n",
        "# Convert to (samples, channels, time_steps)\n",
        "train_tensor = torch.from_numpy(train_data_np).float().permute(0, 2, 1)\n",
        "test_tensor = torch.from_numpy(test_data_np).float().permute(0, 2, 1)\n",
        "\n",
        "train_dataset = TensorDataset(train_tensor, trainingLabels)\n",
        "test_dataset = TensorDataset(test_tensor, testingLabels)\n",
        "\n",
        "batchSize = 50\n",
        "train_loader = DataLoader(train_dataset, batch_size=batchSize, shuffle=True)\n",
        "test_loader = DataLoader(test_dataset, batch_size=batchSize, shuffle=False)\n",
        "\n"
      ],
      "metadata": {
        "id": "qIt9MEtU5qAR"
      },
      "execution_count": 47,
      "outputs": []
    },
    {
      "cell_type": "markdown",
      "source": [
        "Setup training parameters and device and training\n",
        "\n"
      ],
      "metadata": {
        "id": "SiQrcBWM6ecK"
      }
    },
    {
      "cell_type": "code",
      "source": [
        "device = torch.device('cuda' if torch.cuda.is_available() else 'cpu')\n",
        "model = SimpleCNN().to(device)\n",
        "\n",
        "criterion = nn.CrossEntropyLoss()\n",
        "optimizer = torch.optim.SGD(model.parameters(), lr=0.01)\n",
        "epochs = 150\n",
        "\n",
        "for epoch in range(epochs):\n",
        "    model.train()\n",
        "    running_loss = 0.0\n",
        "\n",
        "    for inputs, labels in train_loader:\n",
        "        inputs, labels = inputs.to(device), labels.to(device)\n",
        "\n",
        "        optimizer.zero_grad()\n",
        "        outputs = model(inputs)\n",
        "\n",
        "        loss = criterion(outputs, labels)\n",
        "        loss.backward()\n",
        "        optimizer.step()\n",
        "\n",
        "        running_loss += loss.item()\n",
        "\n",
        "    if (epoch+1) % 10 == 0 or epoch == 0:\n",
        "        print(f\"Epoch [{epoch+1}/{epochs}], Loss: {running_loss/len(train_loader):.4f}\")\n",
        "\n"
      ],
      "metadata": {
        "colab": {
          "base_uri": "https://localhost:8080/"
        },
        "id": "_t3hFqH-6e2O",
        "outputId": "71b79cc7-b606-41d1-adf9-ba4326474638"
      },
      "execution_count": 48,
      "outputs": [
        {
          "output_type": "stream",
          "name": "stdout",
          "text": [
            "Epoch [1/150], Loss: 0.1190\n",
            "Epoch [10/150], Loss: 0.0089\n",
            "Epoch [20/150], Loss: 0.0043\n",
            "Epoch [30/150], Loss: 0.0031\n",
            "Epoch [40/150], Loss: 0.0023\n",
            "Epoch [50/150], Loss: 0.0017\n",
            "Epoch [60/150], Loss: 0.0012\n",
            "Epoch [70/150], Loss: 0.0010\n",
            "Epoch [80/150], Loss: 0.0008\n",
            "Epoch [90/150], Loss: 0.0008\n",
            "Epoch [100/150], Loss: 0.0007\n",
            "Epoch [110/150], Loss: 0.0006\n",
            "Epoch [120/150], Loss: 0.0006\n",
            "Epoch [130/150], Loss: 0.0005\n",
            "Epoch [140/150], Loss: 0.0005\n",
            "Epoch [150/150], Loss: 0.0004\n"
          ]
        }
      ]
    },
    {
      "cell_type": "markdown",
      "source": [
        "Evaluation of model"
      ],
      "metadata": {
        "id": "DZlSdTXQ6rE2"
      }
    },
    {
      "cell_type": "code",
      "source": [
        "# Evaluation\n",
        "model.eval()\n",
        "all_preds = []\n",
        "all_labels = []\n",
        "\n",
        "with torch.no_grad():\n",
        "    for inputs, labels in test_loader:\n",
        "        inputs, labels = inputs.to(device), labels.to(device)\n",
        "        outputs = model(inputs)\n",
        "        _, predicted = torch.max(outputs.data, 1)\n",
        "\n",
        "        all_preds.extend(predicted.cpu().numpy())\n",
        "        all_labels.extend(labels.cpu().numpy())\n"
      ],
      "metadata": {
        "id": "-k4EZhOuuvcR"
      },
      "execution_count": 49,
      "outputs": []
    },
    {
      "cell_type": "markdown",
      "source": [
        "Printing Accuracy, F1 Score, Report"
      ],
      "metadata": {
        "id": "GyOiSGyJuweW"
      }
    },
    {
      "cell_type": "code",
      "source": [
        "from sklearn.metrics import classification_report, confusion_matrix, accuracy_score\n",
        "import matplotlib.pyplot as plt\n",
        "import seaborn as sns\n",
        "\n",
        "# Accuracy\n",
        "accuracy = accuracy_score(all_labels, all_preds)\n",
        "print(f\"\\n✅ Test Accuracy: {accuracy*100:.2f}%\")\n",
        "\n",
        "# Classification Report (force both classes to be shown)\n",
        "print(\"\\n📊 Classification Report:\")\n",
        "print(classification_report(\n",
        "    all_labels,\n",
        "    all_preds,\n",
        "    labels=[0, 1],  # Force both classes to show up\n",
        "    target_names=[\"Class 0\", \"Class 1\"],\n",
        "    zero_division=0  # Avoid division errors\n",
        "))\n",
        "\n",
        "# Confusion Matrix\n",
        "cm = confusion_matrix(all_labels, all_preds, labels=[0, 1])\n",
        "plt.figure(figsize=(5, 4))\n",
        "sns.heatmap(cm, annot=True, fmt=\"d\", cmap=\"Blues\", xticklabels=[\"Class 0\", \"Class 1\"], yticklabels=[\"Class 0\", \"Class 1\"])\n",
        "plt.xlabel(\"Predicted\")\n",
        "plt.ylabel(\"Actual\")\n",
        "plt.title(\"Confusion Matrix\")\n",
        "plt.show()\n",
        "\n",
        "\n",
        "\n"
      ],
      "metadata": {
        "colab": {
          "base_uri": "https://localhost:8080/",
          "height": 636
        },
        "id": "vmtVp3Qs6rmK",
        "outputId": "1d44e876-93d1-4ec8-c403-8c5bb005b662"
      },
      "execution_count": 51,
      "outputs": [
        {
          "output_type": "stream",
          "name": "stdout",
          "text": [
            "\n",
            "✅ Test Accuracy: 100.00%\n",
            "\n",
            "📊 Classification Report:\n",
            "              precision    recall  f1-score   support\n",
            "\n",
            "     Class 0       0.00      0.00      0.00         0\n",
            "     Class 1       1.00      1.00      1.00        90\n",
            "\n",
            "    accuracy                           1.00        90\n",
            "   macro avg       0.50      0.50      0.50        90\n",
            "weighted avg       1.00      1.00      1.00        90\n",
            "\n"
          ]
        },
        {
          "output_type": "display_data",
          "data": {
            "text/plain": [
              "<Figure size 500x400 with 2 Axes>"
            ],
            "image/png": "[encoded data removed]"
          },
          "metadata": {}
        }
      ]
    }
  ]
}